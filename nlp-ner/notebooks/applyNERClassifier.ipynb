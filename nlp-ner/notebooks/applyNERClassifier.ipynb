{
 "cells": [
  {
   "cell_type": "code",
   "execution_count": null,
   "id": "7250ff43",
   "metadata": {},
   "outputs": [],
   "source": [
    "# Import necessary modules\n",
    "from flair.data import Sentence\n",
    "from flair.models import SequenceTagger\n",
    "\n",
    "# Load trained classifier\n",
    "tagger = SequenceTagger.load('/Users/tkaester/Development/NLP-Transformers/mynotebooks/lecture/resources/taggers/germaneval14_ner/16092022-AdamW-Final/best-model.pt')\n",
    "\n",
    "# Show classifier configuration\n",
    "#print(tagger)"
   ]
  },
  {
   "cell_type": "code",
   "execution_count": null,
   "id": "0d7418ed",
   "metadata": {},
   "outputs": [],
   "source": [
    "# Helper function for printing results\n",
    "def myprint(entity):\n",
    "    # print entity text, start_position and end_position\n",
    "    print(f'entity.text is: \"{entity.text}\"')\n",
    "    print(f'entity.start_position is: \"{entity.start_position}\"')\n",
    "    print(f'entity.end_position is: \"{entity.end_position}\"')\n",
    "\n",
    "    # also print the value and score of its \"ner\"-label\n",
    "    print(f'entity \"ner\"-label value is: \"{entity.get_label(\"ner\").value}\"')\n",
    "    print(f'entity \"ner\"-label score is: \"{entity.get_label(\"ner\").score}\"\\n')"
   ]
  },
  {
   "cell_type": "code",
   "execution_count": null,
   "id": "137b133f",
   "metadata": {},
   "outputs": [],
   "source": [
    "##############################\n",
    "# Specify example sentence 1 #\n",
    "##############################\n",
    "sentence = Sentence('Gestern war ich, Thomas Käster, in London mit Vivienne Isabel Westwood bei Burger King essen.')\n",
    "\n",
    "# Print sentence\n",
    "print(sentence)\n",
    "\n",
    "# Apply NER\n",
    "tagger.predict(sentence)\n",
    "\n",
    "print('\\nThe following NER tags were found:\\n')\n",
    "\n",
    "# Iterate over entities and print related data\n",
    "for entity in sentence.get_spans('ner'):\n",
    "    myprint(entity)"
   ]
  },
  {
   "cell_type": "code",
   "execution_count": null,
   "id": "bc4c4d14",
   "metadata": {},
   "outputs": [],
   "source": [
    "##############################\n",
    "# Specify example sentence 2 #\n",
    "##############################\n",
    "sentence = Sentence('Der Herr der Ringe spielt in Mittelerde und wurde von Peter Jackson in Neuseeland gedreht.')\n",
    "\n",
    "# Print sentence\n",
    "print(sentence)\n",
    "\n",
    "# Apply NER\n",
    "tagger.predict(sentence)\n",
    "\n",
    "print('\\nThe following NER tags were found:\\n')\n",
    "\n",
    "# Iterate over entities and print related data\n",
    "for entity in sentence.get_spans('ner'):\n",
    "    myprint(entity)"
   ]
  },
  {
   "cell_type": "code",
   "execution_count": null,
   "id": "1211ca85",
   "metadata": {},
   "outputs": [],
   "source": [
    "##############################\n",
    "# Specify example sentence 3 #\n",
    "##############################\n",
    "sentence = Sentence('\"Deep Learning - Das umfassende Handbuch\" ist ein gutes Buch von Goodfellow, Bengio und Courville')\n",
    "\n",
    "# Print sentence\n",
    "print(sentence)\n",
    "\n",
    "# Apply NER\n",
    "tagger.predict(sentence)\n",
    "\n",
    "print('\\nThe following NER tags were found:\\n')\n",
    "\n",
    "# Iterate over entities and print related data\n",
    "for entity in sentence.get_spans('ner'):\n",
    "    myprint(entity)"
   ]
  },
  {
   "cell_type": "code",
   "execution_count": null,
   "id": "197eff96",
   "metadata": {},
   "outputs": [],
   "source": [
    "##############################\n",
    "# Specify example sentence 4 #\n",
    "##############################\n",
    "sentence = Sentence('Der englische Fussballverband hat die Frauen Fussball Europameisterschaft 2022 ausgetragen.')\n",
    "\n",
    "# Print sentence\n",
    "print(sentence)\n",
    "\n",
    "# Apply NER\n",
    "tagger.predict(sentence)\n",
    "\n",
    "print('\\nThe following NER tags were found:\\n')\n",
    "\n",
    "# Iterate over entities and print related data\n",
    "for entity in sentence.get_spans('ner'):\n",
    "    myprint(entity)"
   ]
  }
 ],
 "metadata": {
  "kernelspec": {
   "display_name": "Python 3 (ipykernel)",
   "language": "python",
   "name": "python3"
  },
  "language_info": {
   "codemirror_mode": {
    "name": "ipython",
    "version": 3
   },
   "file_extension": ".py",
   "mimetype": "text/x-python",
   "name": "python",
   "nbconvert_exporter": "python",
   "pygments_lexer": "ipython3",
   "version": "3.9.12"
  }
 },
 "nbformat": 4,
 "nbformat_minor": 5
}
