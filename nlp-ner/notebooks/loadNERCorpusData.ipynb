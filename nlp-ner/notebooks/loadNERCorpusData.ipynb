{
 "cells": [
  {
   "cell_type": "code",
   "execution_count": 2,
   "id": "b6c574a0",
   "metadata": {},
   "outputs": [
    {
     "name": "stdout",
     "output_type": "stream",
     "text": [
      "2022-09-14 22:12:27,539 Reading data from /Users/tkaester/Development/NLP-Transformers/datasets/germeval_14\n",
      "2022-09-14 22:12:27,539 Train: /Users/tkaester/Development/NLP-Transformers/datasets/germeval_14/NER-de-train_outer.tsv\n",
      "2022-09-14 22:12:27,540 Dev: /Users/tkaester/Development/NLP-Transformers/datasets/germeval_14/NER-de-dev_outer.tsv\n",
      "2022-09-14 22:12:27,540 Test: /Users/tkaester/Development/NLP-Transformers/datasets/germeval_14/NER-de-test_outer.tsv\n",
      "<torch.utils.data.dataset.ConcatDataset object at 0x7fd5d0a7c5e0>\n"
     ]
    }
   ],
   "source": [
    "# Import necessary modules\n",
    "from flair.data import Corpus\n",
    "from flair.datasets import ColumnCorpus\n",
    "\n",
    "# Set data path\n",
    "data_folder = '/Users/tkaester/Development/NLP-Transformers/datasets/germeval_14/'\n",
    "\n",
    "# Define corpus columns\n",
    "columns = {0: 'text', 1: 'ner'}\n",
    "\n",
    "# Create corpus object\n",
    "corpus: Corpus = ColumnCorpus(data_folder, columns,\n",
    "                              train_file = 'NER-de-train_outer.tsv',\n",
    "                              test_file = 'NER-de-test_outer.tsv',\n",
    "                              dev_file = 'NER-de-dev_outer.tsv')\n",
    "# Print general corpus information\n",
    "print(corpus.test)"
   ]
  },
  {
   "cell_type": "code",
   "execution_count": 3,
   "id": "e10b96ad",
   "metadata": {},
   "outputs": [
    {
     "name": "stdout",
     "output_type": "stream",
     "text": [
      "{\n",
      "    \"TRAIN\": {\n",
      "        \"dataset\": \"TRAIN\",\n",
      "        \"total_number_of_documents\": 24000,\n",
      "        \"number_of_documents_per_class\": {\n",
      "            \"PER\": 7679,\n",
      "            \"ORG\": 5255,\n",
      "            \"LOC\": 8281,\n",
      "            \"LOCderiv\": 2808,\n",
      "            \"ORGpart\": 805,\n",
      "            \"OTH\": 3024,\n",
      "            \"PERpart\": 184,\n",
      "            \"LOCpart\": 513,\n",
      "            \"OTHderiv\": 236,\n",
      "            \"PERderiv\": 62,\n",
      "            \"OTHpart\": 190,\n",
      "            \"ORGderiv\": 41\n",
      "        },\n",
      "        \"number_of_tokens_per_tag\": {},\n",
      "        \"number_of_tokens\": {\n",
      "            \"total\": 452853,\n",
      "            \"min\": 3,\n",
      "            \"max\": 56,\n",
      "            \"avg\": 18.868875\n",
      "        }\n",
      "    },\n",
      "    \"TEST\": {\n",
      "        \"dataset\": \"TEST\",\n",
      "        \"total_number_of_documents\": 5100,\n",
      "        \"number_of_documents_per_class\": {\n",
      "            \"OTH\": 697,\n",
      "            \"PER\": 1639,\n",
      "            \"ORGpart\": 172,\n",
      "            \"ORG\": 1150,\n",
      "            \"LOC\": 1706,\n",
      "            \"LOCderiv\": 561,\n",
      "            \"LOCpart\": 109,\n",
      "            \"PERderiv\": 11,\n",
      "            \"OTHderiv\": 39,\n",
      "            \"OTHpart\": 42,\n",
      "            \"PERpart\": 44,\n",
      "            \"ORGderiv\": 8\n",
      "        },\n",
      "        \"number_of_tokens_per_tag\": {},\n",
      "        \"number_of_tokens\": {\n",
      "            \"total\": 96499,\n",
      "            \"min\": 4,\n",
      "            \"max\": 51,\n",
      "            \"avg\": 18.92137254901961\n",
      "        }\n",
      "    },\n",
      "    \"DEV\": {\n",
      "        \"dataset\": \"DEV\",\n",
      "        \"total_number_of_documents\": 2200,\n",
      "        \"number_of_documents_per_class\": {\n",
      "            \"OTH\": 269,\n",
      "            \"PER\": 711,\n",
      "            \"ORG\": 496,\n",
      "            \"LOC\": 763,\n",
      "            \"ORGpart\": 91,\n",
      "            \"LOCderiv\": 235,\n",
      "            \"LOCpart\": 52,\n",
      "            \"PERpart\": 18,\n",
      "            \"ORGderiv\": 3,\n",
      "            \"OTHpart\": 18,\n",
      "            \"OTHderiv\": 16,\n",
      "            \"PERderiv\": 2\n",
      "        },\n",
      "        \"number_of_tokens_per_tag\": {},\n",
      "        \"number_of_tokens\": {\n",
      "            \"total\": 41653,\n",
      "            \"min\": 4,\n",
      "            \"max\": 50,\n",
      "            \"avg\": 18.93318181818182\n",
      "        }\n",
      "    }\n",
      "}\n"
     ]
    }
   ],
   "source": [
    "# Determine detailed corpus statistics\n",
    "stats = corpus.obtain_statistics()\n",
    "\n",
    "# Print statistics\n",
    "print(stats)"
   ]
  },
  {
   "cell_type": "code",
   "execution_count": 4,
   "id": "60fd68ed",
   "metadata": {},
   "outputs": [
    {
     "name": "stdout",
     "output_type": "stream",
     "text": [
      "Sentence: \"Schartau sagte dem \" Tagesspiegel \" vom Freitag , Fischer sei \" in einer Weise aufgetreten , die alles andere als überzeugend war \" .\" → [\"Schartau\"/PER, \"Tagesspiegel\"/ORG, \"Fischer\"/PER]\n"
     ]
    }
   ],
   "source": [
    "# Get training data\n",
    "train_data = corpus.train\n",
    "\n",
    "# Show first sentence of training set\n",
    "print(train_data[0])"
   ]
  },
  {
   "cell_type": "code",
   "execution_count": 5,
   "id": "3b6d8b29",
   "metadata": {},
   "outputs": [
    {
     "name": "stdout",
     "output_type": "stream",
     "text": [
      "Sentence: \"Firmengründer Wolf Peter Bree arbeitete Anfang der siebziger Jahre als Möbelvertreter , als er einen fliegenden Händler aus dem Libanon traf .\" → [\"Wolf Peter Bree\"/PER, \"Libanon\"/LOC]\n"
     ]
    }
   ],
   "source": [
    "# Show second sentence of training set\n",
    "print(train_data[1])"
   ]
  },
  {
   "cell_type": "code",
   "execution_count": 6,
   "id": "41c1f977",
   "metadata": {},
   "outputs": [
    {
     "name": "stdout",
     "output_type": "stream",
     "text": [
      "Sentence: \"Ob sie dabei nach dem Runden Tisch am 23. April in Berlin durch ein pädagogisches Konzept unterstützt wird , ist allerdings zu bezweifeln .\" → [\"Berlin\"/LOC]\n"
     ]
    }
   ],
   "source": [
    "# Show third sentence of training set\n",
    "print(train_data[2])"
   ]
  },
  {
   "cell_type": "code",
   "execution_count": null,
   "id": "8fc0eaad",
   "metadata": {},
   "outputs": [],
   "source": []
  }
 ],
 "metadata": {
  "kernelspec": {
   "display_name": "Python 3 (ipykernel)",
   "language": "python",
   "name": "python3"
  },
  "language_info": {
   "codemirror_mode": {
    "name": "ipython",
    "version": 3
   },
   "file_extension": ".py",
   "mimetype": "text/x-python",
   "name": "python",
   "nbconvert_exporter": "python",
   "pygments_lexer": "ipython3",
   "version": "3.9.12"
  }
 },
 "nbformat": 4,
 "nbformat_minor": 5
}
