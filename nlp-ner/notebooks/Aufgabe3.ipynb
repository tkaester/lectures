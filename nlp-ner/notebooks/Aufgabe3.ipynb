{
 "cells": [
  {
   "cell_type": "code",
   "execution_count": 1,
   "id": "6c7c7d5c",
   "metadata": {},
   "outputs": [
    {
     "name": "stdout",
     "output_type": "stream",
     "text": [
      "2022-09-19 20:23:01,809 Reading data from /Users/tkaester/.flair/datasets/sentiment_140\n",
      "2022-09-19 20:23:01,810 Train: /Users/tkaester/.flair/datasets/sentiment_140/train.txt\n",
      "2022-09-19 20:23:01,811 Dev: None\n",
      "2022-09-19 20:23:01,811 Test: /Users/tkaester/.flair/datasets/sentiment_140/test.txt\n",
      "2022-09-19 20:23:19,567 Initialized corpus /Users/tkaester/.flair/datasets/sentiment_140 (label type name is 'sentiment')\n",
      "{\n",
      "    \"TRAIN\": {\n",
      "        \"dataset\": \"TRAIN\",\n",
      "        \"total_number_of_documents\": 72000,\n",
      "        \"number_of_documents_per_class\": {\n",
      "            \"NEGATIVE\": 36092,\n",
      "            \"POSITIVE\": 35908\n",
      "        },\n",
      "        \"number_of_tokens_per_tag\": {},\n",
      "        \"number_of_tokens\": {\n",
      "            \"total\": 1188394,\n",
      "            \"min\": 1,\n",
      "            \"max\": 185,\n",
      "            \"avg\": 16.505472222222224\n",
      "        }\n",
      "    },\n",
      "    \"TEST\": {\n",
      "        \"dataset\": \"TEST\",\n",
      "        \"total_number_of_documents\": 25,\n",
      "        \"number_of_documents_per_class\": {\n",
      "            \"POSITIVE\": 9,\n",
      "            \"NEUTRAL\": 8,\n",
      "            \"NEGATIVE\": 8\n",
      "        },\n",
      "        \"number_of_tokens_per_tag\": {},\n",
      "        \"number_of_tokens\": {\n",
      "            \"total\": 425,\n",
      "            \"min\": 5,\n",
      "            \"max\": 32,\n",
      "            \"avg\": 17.0\n",
      "        }\n",
      "    },\n",
      "    \"DEV\": {\n",
      "        \"dataset\": \"DEV\",\n",
      "        \"total_number_of_documents\": 8000,\n",
      "        \"number_of_documents_per_class\": {\n",
      "            \"NEGATIVE\": 3943,\n",
      "            \"POSITIVE\": 4057\n",
      "        },\n",
      "        \"number_of_tokens_per_tag\": {},\n",
      "        \"number_of_tokens\": {\n",
      "            \"total\": 133012,\n",
      "            \"min\": 1,\n",
      "            \"max\": 120,\n",
      "            \"avg\": 16.6265\n",
      "        }\n",
      "    }\n",
      "}\n"
     ]
    }
   ],
   "source": [
    "# Import corpus class and dataset\n",
    "from flair.data import Corpus\n",
    "from flair.datasets import SENTIMENT_140\n",
    "\n",
    "corpus = SENTIMENT_140()\n",
    "corpus.downsample(0.05) # If you wanna reduce the dataset to %5 of the overall amount\n",
    "\n",
    "# Create dataset statistics - take care if you only use a subset!\n",
    "stats = corpus.obtain_statistics()\n",
    "print(stats)"
   ]
  },
  {
   "cell_type": "code",
   "execution_count": 2,
   "id": "b1ea662b",
   "metadata": {},
   "outputs": [
    {
     "name": "stdout",
     "output_type": "stream",
     "text": [
      "2022-09-19 20:26:28,923 Computing label dictionary. Progress:\n"
     ]
    },
    {
     "name": "stderr",
     "output_type": "stream",
     "text": [
      "72000it [00:20, 3439.90it/s]"
     ]
    },
    {
     "name": "stdout",
     "output_type": "stream",
     "text": [
      "2022-09-19 20:26:49,875 Dictionary created for label 'sentiment' with 3 values: NEGATIVE (seen 36092 times), POSITIVE (seen 35908 times)\n",
      "Dictionary with 3 tags: <unk>, NEGATIVE, POSITIVE\n"
     ]
    },
    {
     "name": "stderr",
     "output_type": "stream",
     "text": [
      "\n"
     ]
    }
   ],
   "source": [
    "# Create dictionary\n",
    "lbl_type = 'sentiment'\n",
    "label_dict = corpus.make_label_dictionary(label_type=lbl_type)\n",
    "print(label_dict)"
   ]
  },
  {
   "cell_type": "code",
   "execution_count": 3,
   "id": "1394efa9",
   "metadata": {},
   "outputs": [
    {
     "name": "stdout",
     "output_type": "stream",
     "text": [
      "Sentence: \"@ JonathanRKnight Awww I soo wish I was there to see you finally comfortable ! Im sad that I missed it\" → NEGATIVE (1.0)\n"
     ]
    }
   ],
   "source": [
    "# Show first sample of training set\n",
    "print(corpus.train[0])"
   ]
  }
 ],
 "metadata": {
  "kernelspec": {
   "display_name": "Python 3 (ipykernel)",
   "language": "python",
   "name": "python3"
  },
  "language_info": {
   "codemirror_mode": {
    "name": "ipython",
    "version": 3
   },
   "file_extension": ".py",
   "mimetype": "text/x-python",
   "name": "python",
   "nbconvert_exporter": "python",
   "pygments_lexer": "ipython3",
   "version": "3.9.12"
  }
 },
 "nbformat": 4,
 "nbformat_minor": 5
}
