{
 "cells": [
  {
   "cell_type": "code",
   "execution_count": 1,
   "id": "68b3cbe8",
   "metadata": {},
   "outputs": [
    {
     "name": "stdout",
     "output_type": "stream",
     "text": [
      "2022-09-19 20:05:41,426 Reading data from /Users/tkaester/Development/NLP-Transformers/datasets/germeval_14\n",
      "2022-09-19 20:05:41,427 Train: /Users/tkaester/Development/NLP-Transformers/datasets/germeval_14/NER-de-train_outer.tsv\n",
      "2022-09-19 20:05:41,427 Dev: /Users/tkaester/Development/NLP-Transformers/datasets/germeval_14/NER-de-dev_outer.tsv\n",
      "2022-09-19 20:05:41,427 Test: /Users/tkaester/Development/NLP-Transformers/datasets/germeval_14/NER-de-test_outer.tsv\n",
      "2022-09-19 20:05:49,597 loading file /Users/tkaester/Development/NLP-Transformers/mynotebooks/lecture/resources/taggers/germaneval14_ner/16092022-AdamW-Final/best-model.pt\n",
      "2022-09-19 20:05:56,337 SequenceTagger predicts: Dictionary with 49 tags: O, S-LOC, B-LOC, E-LOC, I-LOC, S-PER, B-PER, E-PER, I-PER, S-ORG, B-ORG, E-ORG, I-ORG, S-OTH, B-OTH, E-OTH, I-OTH, S-LOCderiv, B-LOCderiv, E-LOCderiv, I-LOCderiv, S-ORGpart, B-ORGpart, E-ORGpart, I-ORGpart, S-LOCpart, B-LOCpart, E-LOCpart, I-LOCpart, S-OTHderiv, B-OTHderiv, E-OTHderiv, I-OTHderiv, S-OTHpart, B-OTHpart, E-OTHpart, I-OTHpart, S-PERpart, B-PERpart, E-PERpart, I-PERpart, S-PERderiv, B-PERderiv, E-PERderiv, I-PERderiv, S-ORGderiv, B-ORGderiv, E-ORGderiv, I-ORGderiv\n"
     ]
    }
   ],
   "source": [
    "# Import necessary modules\n",
    "from flair.data import Sentence\n",
    "from flair.models import SequenceTagger\n",
    "from flair.data import Corpus\n",
    "from flair.datasets import ColumnCorpus\n",
    "\n",
    "# Set data path\n",
    "data_folder = '/Users/tkaester/Development/NLP-Transformers/datasets/germeval_14/'\n",
    "\n",
    "# Define corpus columns\n",
    "columns = {0: 'text', 1: 'ner'}\n",
    "\n",
    "# Create corpus object\n",
    "corpus: Corpus = ColumnCorpus(data_folder, columns,\n",
    "                              train_file = 'NER-de-train_outer.tsv',\n",
    "                              test_file = 'NER-de-test_outer.tsv',\n",
    "                              dev_file = 'NER-de-dev_outer.tsv')\n",
    "    \n",
    "# Load trained classifier\n",
    "tagger = SequenceTagger.load('/Users/tkaester/Development/NLP-Transformers/mynotebooks/lecture/resources/taggers/germaneval14_ner/16092022-AdamW-Final/best-model.pt')"
   ]
  },
  {
   "cell_type": "code",
   "execution_count": 2,
   "id": "9aac7c34",
   "metadata": {},
   "outputs": [
    {
     "name": "stderr",
     "output_type": "stream",
     "text": [
      "100%|████████████████████████████████████████████████████████████████████████████████████████████████████████████████████████████████████████████████| 5100/5100 [04:28<00:00, 18.97it/s]\n"
     ]
    },
    {
     "name": "stdout",
     "output_type": "stream",
     "text": [
      "2022-09-19 20:11:56,966 Evaluating as a multi-label problem: False\n",
      "\n",
      "Results:\n",
      "- F-score (micro) 0.853\n",
      "- F-score (macro) 0.6603\n",
      "- Accuracy 0.778\n",
      "\n",
      "By class:\n",
      "              precision    recall  f1-score   support\n",
      "\n",
      "         LOC     0.8983    0.9109    0.9045      1706\n",
      "         PER     0.9328    0.9408    0.9368      1639\n",
      "         ORG     0.8031    0.8017    0.8024      1150\n",
      "         OTH     0.6883    0.6557    0.6716       697\n",
      "    LOCderiv     0.8699    0.9412    0.9041       561\n",
      "     ORGpart     0.7514    0.7558    0.7536       172\n",
      "     LOCpart     0.7212    0.6881    0.7042       109\n",
      "     OTHpart     0.5682    0.5952    0.5814        42\n",
      "     PERpart     0.6571    0.5227    0.5823        44\n",
      "    OTHderiv     0.5833    0.5385    0.5600        39\n",
      "    PERderiv     0.3333    0.2727    0.3000        11\n",
      "    ORGderiv     1.0000    0.1250    0.2222         8\n",
      "\n",
      "   micro avg     0.8512    0.8548    0.8530      6178\n",
      "   macro avg     0.7339    0.6457    0.6603      6178\n",
      "weighted avg     0.8494    0.8548    0.8514      6178\n",
      "\n"
     ]
    }
   ],
   "source": [
    "# Start evaluation\n",
    "result = tagger.evaluate(corpus.test, mini_batch_size=1, out_path=f\"predictions.txt\", gold_label_type=\"ner\")\n",
    "\n",
    "# Show results\n",
    "print(result.detailed_results)"
   ]
  },
  {
   "cell_type": "code",
   "execution_count": null,
   "id": "270dcc22",
   "metadata": {},
   "outputs": [],
   "source": []
  }
 ],
 "metadata": {
  "kernelspec": {
   "display_name": "Python 3 (ipykernel)",
   "language": "python",
   "name": "python3"
  },
  "language_info": {
   "codemirror_mode": {
    "name": "ipython",
    "version": 3
   },
   "file_extension": ".py",
   "mimetype": "text/x-python",
   "name": "python",
   "nbconvert_exporter": "python",
   "pygments_lexer": "ipython3",
   "version": "3.9.12"
  }
 },
 "nbformat": 4,
 "nbformat_minor": 5
}
