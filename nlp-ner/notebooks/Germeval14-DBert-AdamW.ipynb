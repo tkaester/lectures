{
 "cells": [
  {
   "cell_type": "code",
   "execution_count": 1,
   "id": "2fa3d099",
   "metadata": {},
   "outputs": [
    {
     "name": "stdout",
     "output_type": "stream",
     "text": [
      "2022-09-16 17:14:56,541 Reading data from /home/kaester/Development/Python/Notebooks/data\n",
      "2022-09-16 17:14:56,542 Train: /home/kaester/Development/Python/Notebooks/data/NER-de-train_outer.tsv\n",
      "2022-09-16 17:14:56,542 Dev: /home/kaester/Development/Python/Notebooks/data/NER-de-dev_outer.tsv\n",
      "2022-09-16 17:14:56,543 Test: /home/kaester/Development/Python/Notebooks/data/NER-de-test_outer.tsv\n",
      "Corpus: 24000 train + 2200 dev + 5100 test sentences\n"
     ]
    }
   ],
   "source": [
    "import torch\n",
    "from flair.data import Corpus\n",
    "from flair.datasets import ColumnCorpus\n",
    "\n",
    "# Import transformer, tagger and trainer\n",
    "from flair.embeddings import TransformerWordEmbeddings\n",
    "from flair.models import SequenceTagger\n",
    "from flair.trainers import ModelTrainer\n",
    "\n",
    "# Define columns\n",
    "columns = {0: 'text', 1: 'ner'}\n",
    "\n",
    "# Path to data\n",
    "data_folder = '/home/kaester/Development/Python/Notebooks/data/'\n",
    "\n",
    "corpus: Corpus = ColumnCorpus(data_folder, columns,\n",
    "                             train_file = 'NER-de-train_outer.tsv',\n",
    "                             test_file = 'NER-de-test_outer.tsv',\n",
    "                             dev_file = 'NER-de-dev_outer.tsv')\n",
    "\n",
    "print(corpus)"
   ]
  },
  {
   "cell_type": "code",
   "execution_count": 2,
   "id": "ff430ffc",
   "metadata": {},
   "outputs": [
    {
     "name": "stdout",
     "output_type": "stream",
     "text": [
      "2022-09-16 17:15:03,118 Computing label dictionary. Progress:\n"
     ]
    },
    {
     "name": "stderr",
     "output_type": "stream",
     "text": [
      "24000it [00:00, 56288.52it/s]"
     ]
    },
    {
     "name": "stdout",
     "output_type": "stream",
     "text": [
      "2022-09-16 17:15:03,579 Dictionary created for label 'ner' with 13 values: LOC (seen 8281 times), PER (seen 7679 times), ORG (seen 5255 times), OTH (seen 3024 times), LOCderiv (seen 2808 times), ORGpart (seen 805 times), LOCpart (seen 513 times), OTHderiv (seen 236 times), OTHpart (seen 190 times), PERpart (seen 184 times), PERderiv (seen 62 times), ORGderiv (seen 41 times)\n"
     ]
    },
    {
     "name": "stderr",
     "output_type": "stream",
     "text": [
      "\n"
     ]
    }
   ],
   "source": [
    "# Create dictionary\n",
    "ner_dict = corpus.make_label_dictionary(label_type='ner')"
   ]
  },
  {
   "cell_type": "code",
   "execution_count": 3,
   "id": "d36e9431",
   "metadata": {},
   "outputs": [
    {
     "name": "stdout",
     "output_type": "stream",
     "text": [
      "2022-09-16 17:15:14,492 SequenceTagger predicts: Dictionary with 49 tags: O, S-LOC, B-LOC, E-LOC, I-LOC, S-PER, B-PER, E-PER, I-PER, S-ORG, B-ORG, E-ORG, I-ORG, S-OTH, B-OTH, E-OTH, I-OTH, S-LOCderiv, B-LOCderiv, E-LOCderiv, I-LOCderiv, S-ORGpart, B-ORGpart, E-ORGpart, I-ORGpart, S-LOCpart, B-LOCpart, E-LOCpart, I-LOCpart, S-OTHderiv, B-OTHderiv, E-OTHderiv, I-OTHderiv, S-OTHpart, B-OTHpart, E-OTHpart, I-OTHpart, S-PERpart, B-PERpart, E-PERpart, I-PERpart, S-PERderiv, B-PERderiv, E-PERderiv, I-PERderiv, S-ORGderiv, B-ORGderiv, E-ORGderiv, I-ORGderiv\n"
     ]
    }
   ],
   "source": [
    "# Initialize transformer for fine tuning\n",
    "embeddings = TransformerWordEmbeddings(model='distilbert-base-german-cased', # Pretrained model on hugging face\n",
    "                                       layers=\"-1\", # Take embeddings of last layer as inputs for our classification head\n",
    "                                       subtoken_pooling=\"first\", # Take first subtoken, if we have several for one token\n",
    "                                       fine_tune=True, # Adapt pretrained parameters of the backbone as well\n",
    "                                       use_context=False, # Don't use context outside of a sentence.\n",
    "                                       )\n",
    "\n",
    "# Initialize sequence tagger\n",
    "tagger = SequenceTagger(embeddings=embeddings,\n",
    "                        tag_dictionary=ner_dict,\n",
    "                        tag_type='ner',\n",
    "                        use_crf=False, # We don't wanna use a Conditional Random Field for sequence labelling\n",
    "                        use_rnn=False, # We do not need a recurrent network as well.\n",
    "                        reproject_embeddings=False, # It's only necessary, if we wanna finetune non-trainable embeddings!\n",
    "                        )\n",
    "\n",
    "# Initialize trainer\n",
    "trainer = ModelTrainer(tagger, corpus)"
   ]
  },
  {
   "cell_type": "code",
   "execution_count": 4,
   "id": "550308bf",
   "metadata": {},
   "outputs": [
    {
     "name": "stdout",
     "output_type": "stream",
     "text": [
      "2022-09-16 17:15:35,488 ----------------------------------------------------------------------------------------------------\n",
      "2022-09-16 17:15:35,489 Model: \"SequenceTagger(\n",
      "  (embeddings): TransformerWordEmbeddings(\n",
      "    (model): DistilBertModel(\n",
      "      (embeddings): Embeddings(\n",
      "        (word_embeddings): Embedding(31102, 768, padding_idx=0)\n",
      "        (position_embeddings): Embedding(512, 768)\n",
      "        (LayerNorm): LayerNorm((768,), eps=1e-12, elementwise_affine=True)\n",
      "        (dropout): Dropout(p=0.1, inplace=False)\n",
      "      )\n",
      "      (transformer): Transformer(\n",
      "        (layer): ModuleList(\n",
      "          (0): TransformerBlock(\n",
      "            (attention): MultiHeadSelfAttention(\n",
      "              (dropout): Dropout(p=0.1, inplace=False)\n",
      "              (q_lin): Linear(in_features=768, out_features=768, bias=True)\n",
      "              (k_lin): Linear(in_features=768, out_features=768, bias=True)\n",
      "              (v_lin): Linear(in_features=768, out_features=768, bias=True)\n",
      "              (out_lin): Linear(in_features=768, out_features=768, bias=True)\n",
      "            )\n",
      "            (sa_layer_norm): LayerNorm((768,), eps=1e-12, elementwise_affine=True)\n",
      "            (ffn): FFN(\n",
      "              (dropout): Dropout(p=0.1, inplace=False)\n",
      "              (lin1): Linear(in_features=768, out_features=3072, bias=True)\n",
      "              (lin2): Linear(in_features=3072, out_features=768, bias=True)\n",
      "              (activation): GELUActivation()\n",
      "            )\n",
      "            (output_layer_norm): LayerNorm((768,), eps=1e-12, elementwise_affine=True)\n",
      "          )\n",
      "          (1): TransformerBlock(\n",
      "            (attention): MultiHeadSelfAttention(\n",
      "              (dropout): Dropout(p=0.1, inplace=False)\n",
      "              (q_lin): Linear(in_features=768, out_features=768, bias=True)\n",
      "              (k_lin): Linear(in_features=768, out_features=768, bias=True)\n",
      "              (v_lin): Linear(in_features=768, out_features=768, bias=True)\n",
      "              (out_lin): Linear(in_features=768, out_features=768, bias=True)\n",
      "            )\n",
      "            (sa_layer_norm): LayerNorm((768,), eps=1e-12, elementwise_affine=True)\n",
      "            (ffn): FFN(\n",
      "              (dropout): Dropout(p=0.1, inplace=False)\n",
      "              (lin1): Linear(in_features=768, out_features=3072, bias=True)\n",
      "              (lin2): Linear(in_features=3072, out_features=768, bias=True)\n",
      "              (activation): GELUActivation()\n",
      "            )\n",
      "            (output_layer_norm): LayerNorm((768,), eps=1e-12, elementwise_affine=True)\n",
      "          )\n",
      "          (2): TransformerBlock(\n",
      "            (attention): MultiHeadSelfAttention(\n",
      "              (dropout): Dropout(p=0.1, inplace=False)\n",
      "              (q_lin): Linear(in_features=768, out_features=768, bias=True)\n",
      "              (k_lin): Linear(in_features=768, out_features=768, bias=True)\n",
      "              (v_lin): Linear(in_features=768, out_features=768, bias=True)\n",
      "              (out_lin): Linear(in_features=768, out_features=768, bias=True)\n",
      "            )\n",
      "            (sa_layer_norm): LayerNorm((768,), eps=1e-12, elementwise_affine=True)\n",
      "            (ffn): FFN(\n",
      "              (dropout): Dropout(p=0.1, inplace=False)\n",
      "              (lin1): Linear(in_features=768, out_features=3072, bias=True)\n",
      "              (lin2): Linear(in_features=3072, out_features=768, bias=True)\n",
      "              (activation): GELUActivation()\n",
      "            )\n",
      "            (output_layer_norm): LayerNorm((768,), eps=1e-12, elementwise_affine=True)\n",
      "          )\n",
      "          (3): TransformerBlock(\n",
      "            (attention): MultiHeadSelfAttention(\n",
      "              (dropout): Dropout(p=0.1, inplace=False)\n",
      "              (q_lin): Linear(in_features=768, out_features=768, bias=True)\n",
      "              (k_lin): Linear(in_features=768, out_features=768, bias=True)\n",
      "              (v_lin): Linear(in_features=768, out_features=768, bias=True)\n",
      "              (out_lin): Linear(in_features=768, out_features=768, bias=True)\n",
      "            )\n",
      "            (sa_layer_norm): LayerNorm((768,), eps=1e-12, elementwise_affine=True)\n",
      "            (ffn): FFN(\n",
      "              (dropout): Dropout(p=0.1, inplace=False)\n",
      "              (lin1): Linear(in_features=768, out_features=3072, bias=True)\n",
      "              (lin2): Linear(in_features=3072, out_features=768, bias=True)\n",
      "              (activation): GELUActivation()\n",
      "            )\n",
      "            (output_layer_norm): LayerNorm((768,), eps=1e-12, elementwise_affine=True)\n",
      "          )\n",
      "          (4): TransformerBlock(\n",
      "            (attention): MultiHeadSelfAttention(\n",
      "              (dropout): Dropout(p=0.1, inplace=False)\n",
      "              (q_lin): Linear(in_features=768, out_features=768, bias=True)\n",
      "              (k_lin): Linear(in_features=768, out_features=768, bias=True)\n",
      "              (v_lin): Linear(in_features=768, out_features=768, bias=True)\n",
      "              (out_lin): Linear(in_features=768, out_features=768, bias=True)\n",
      "            )\n",
      "            (sa_layer_norm): LayerNorm((768,), eps=1e-12, elementwise_affine=True)\n",
      "            (ffn): FFN(\n",
      "              (dropout): Dropout(p=0.1, inplace=False)\n",
      "              (lin1): Linear(in_features=768, out_features=3072, bias=True)\n",
      "              (lin2): Linear(in_features=3072, out_features=768, bias=True)\n",
      "              (activation): GELUActivation()\n",
      "            )\n",
      "            (output_layer_norm): LayerNorm((768,), eps=1e-12, elementwise_affine=True)\n",
      "          )\n",
      "          (5): TransformerBlock(\n",
      "            (attention): MultiHeadSelfAttention(\n",
      "              (dropout): Dropout(p=0.1, inplace=False)\n",
      "              (q_lin): Linear(in_features=768, out_features=768, bias=True)\n",
      "              (k_lin): Linear(in_features=768, out_features=768, bias=True)\n",
      "              (v_lin): Linear(in_features=768, out_features=768, bias=True)\n",
      "              (out_lin): Linear(in_features=768, out_features=768, bias=True)\n",
      "            )\n",
      "            (sa_layer_norm): LayerNorm((768,), eps=1e-12, elementwise_affine=True)\n",
      "            (ffn): FFN(\n",
      "              (dropout): Dropout(p=0.1, inplace=False)\n",
      "              (lin1): Linear(in_features=768, out_features=3072, bias=True)\n",
      "              (lin2): Linear(in_features=3072, out_features=768, bias=True)\n",
      "              (activation): GELUActivation()\n",
      "            )\n",
      "            (output_layer_norm): LayerNorm((768,), eps=1e-12, elementwise_affine=True)\n",
      "          )\n",
      "        )\n",
      "      )\n",
      "    )\n",
      "  )\n",
      "  (word_dropout): WordDropout(p=0.05)\n",
      "  (locked_dropout): LockedDropout(p=0.5)\n",
      "  (linear): Linear(in_features=768, out_features=49, bias=True)\n",
      "  (loss_function): CrossEntropyLoss()\n",
      ")\"\n",
      "2022-09-16 17:15:35,490 ----------------------------------------------------------------------------------------------------\n",
      "2022-09-16 17:15:35,491 Corpus: \"Corpus: 24000 train + 2200 dev + 5100 test sentences\"\n",
      "2022-09-16 17:15:35,492 ----------------------------------------------------------------------------------------------------\n",
      "2022-09-16 17:15:35,493 Parameters:\n",
      "2022-09-16 17:15:35,494  - learning_rate: \"0.000050\"\n",
      "2022-09-16 17:15:35,494  - mini_batch_size: \"16\"\n",
      "2022-09-16 17:15:35,495  - patience: \"3\"\n",
      "2022-09-16 17:15:35,496  - anneal_factor: \"0.5\"\n",
      "2022-09-16 17:15:35,496  - max_epochs: \"5\"\n",
      "2022-09-16 17:15:35,497  - shuffle: \"True\"\n",
      "2022-09-16 17:15:35,513  - train_with_dev: \"False\"\n",
      "2022-09-16 17:15:35,515  - batch_growth_annealing: \"False\"\n",
      "2022-09-16 17:15:35,515 ----------------------------------------------------------------------------------------------------\n",
      "2022-09-16 17:15:35,516 Model training base path: \"resources/taggers/germaneval14_ner/16092022-AdamW-Final\"\n",
      "2022-09-16 17:15:35,517 ----------------------------------------------------------------------------------------------------\n",
      "2022-09-16 17:15:35,517 Device: cuda:0\n",
      "2022-09-16 17:15:35,518 ----------------------------------------------------------------------------------------------------\n",
      "2022-09-16 17:15:35,518 Embeddings storage mode: cpu\n",
      "2022-09-16 17:15:35,519 ----------------------------------------------------------------------------------------------------\n",
      "2022-09-16 17:15:55,811 epoch 1 - iter 150/1500 - loss 2.73797850 - samples/sec: 118.33 - lr: 0.000010\n",
      "2022-09-16 17:16:15,757 epoch 1 - iter 300/1500 - loss 1.65659661 - samples/sec: 120.37 - lr: 0.000020\n",
      "2022-09-16 17:16:35,567 epoch 1 - iter 450/1500 - loss 1.24947607 - samples/sec: 121.20 - lr: 0.000030\n",
      "2022-09-16 17:16:55,753 epoch 1 - iter 600/1500 - loss 1.02364530 - samples/sec: 118.95 - lr: 0.000040\n"
     ]
    },
    {
     "name": "stdout",
     "output_type": "stream",
     "text": [
      "2022-09-16 17:17:15,973 epoch 1 - iter 750/1500 - loss 0.88563409 - samples/sec: 118.74 - lr: 0.000050\n",
      "2022-09-16 17:17:36,250 epoch 1 - iter 900/1500 - loss 0.79441479 - samples/sec: 118.41 - lr: 0.000049\n",
      "2022-09-16 17:17:56,512 epoch 1 - iter 1050/1500 - loss 0.72270564 - samples/sec: 118.50 - lr: 0.000048\n",
      "2022-09-16 17:18:17,132 epoch 1 - iter 1200/1500 - loss 0.66922162 - samples/sec: 116.44 - lr: 0.000047\n",
      "2022-09-16 17:18:38,098 epoch 1 - iter 1350/1500 - loss 0.62708206 - samples/sec: 114.52 - lr: 0.000046\n",
      "2022-09-16 17:18:58,500 epoch 1 - iter 1500/1500 - loss 0.59333735 - samples/sec: 117.68 - lr: 0.000044\n",
      "2022-09-16 17:18:58,501 ----------------------------------------------------------------------------------------------------\n",
      "2022-09-16 17:18:58,502 EPOCH 1 done: loss 0.5933 - lr 0.000044\n"
     ]
    },
    {
     "name": "stderr",
     "output_type": "stream",
     "text": [
      "100%|████████████████████████████████████████████████████████████████████████████████████████████████████████████████████████████████████████████████████████████████████████████████| 138/138 [00:08<00:00, 15.50it/s]\n"
     ]
    },
    {
     "name": "stdout",
     "output_type": "stream",
     "text": [
      "2022-09-16 17:19:07,412 Evaluating as a multi-label problem: False\n",
      "2022-09-16 17:19:07,434 DEV : loss 0.09275367856025696 - f1-score (micro avg)  0.8321\n",
      "2022-09-16 17:19:07,549 BAD EPOCHS (no improvement): 4\n",
      "2022-09-16 17:19:08,612 saving best model\n",
      "2022-09-16 17:19:09,674 ----------------------------------------------------------------------------------------------------\n",
      "2022-09-16 17:19:30,524 epoch 2 - iter 150/1500 - loss 0.25975609 - samples/sec: 115.27 - lr: 0.000043\n",
      "2022-09-16 17:19:51,320 epoch 2 - iter 300/1500 - loss 0.25805723 - samples/sec: 115.46 - lr: 0.000042\n",
      "2022-09-16 17:20:11,993 epoch 2 - iter 450/1500 - loss 0.25599833 - samples/sec: 116.15 - lr: 0.000041\n",
      "2022-09-16 17:20:32,510 epoch 2 - iter 600/1500 - loss 0.25593583 - samples/sec: 117.03 - lr: 0.000040\n",
      "2022-09-16 17:20:53,324 epoch 2 - iter 750/1500 - loss 0.25615338 - samples/sec: 115.36 - lr: 0.000039\n",
      "2022-09-16 17:21:13,963 epoch 2 - iter 900/1500 - loss 0.25398754 - samples/sec: 116.34 - lr: 0.000038\n",
      "2022-09-16 17:21:34,757 epoch 2 - iter 1050/1500 - loss 0.25451073 - samples/sec: 115.47 - lr: 0.000037\n",
      "2022-09-16 17:21:55,405 epoch 2 - iter 1200/1500 - loss 0.25440273 - samples/sec: 116.29 - lr: 0.000036\n",
      "2022-09-16 17:22:16,047 epoch 2 - iter 1350/1500 - loss 0.25462339 - samples/sec: 116.32 - lr: 0.000034\n",
      "2022-09-16 17:22:36,899 epoch 2 - iter 1500/1500 - loss 0.25428713 - samples/sec: 115.15 - lr: 0.000033\n",
      "2022-09-16 17:22:36,901 ----------------------------------------------------------------------------------------------------\n",
      "2022-09-16 17:22:36,901 EPOCH 2 done: loss 0.2543 - lr 0.000033\n"
     ]
    },
    {
     "name": "stderr",
     "output_type": "stream",
     "text": [
      "100%|████████████████████████████████████████████████████████████████████████████████████████████████████████████████████████████████████████████████████████████████████████████████| 138/138 [00:08<00:00, 16.07it/s]"
     ]
    },
    {
     "name": "stdout",
     "output_type": "stream",
     "text": [
      "2022-09-16 17:22:45,498 Evaluating as a multi-label problem: False\n",
      "2022-09-16 17:22:45,519 DEV : loss 0.08406437933444977 - f1-score (micro avg)  0.8568\n"
     ]
    },
    {
     "name": "stderr",
     "output_type": "stream",
     "text": [
      "\n"
     ]
    },
    {
     "name": "stdout",
     "output_type": "stream",
     "text": [
      "2022-09-16 17:22:45,641 BAD EPOCHS (no improvement): 4\n",
      "2022-09-16 17:22:46,717 saving best model\n",
      "2022-09-16 17:22:49,409 ----------------------------------------------------------------------------------------------------\n",
      "2022-09-16 17:23:10,173 epoch 3 - iter 150/1500 - loss 0.22311297 - samples/sec: 115.65 - lr: 0.000032\n",
      "2022-09-16 17:23:30,737 epoch 3 - iter 300/1500 - loss 0.22543985 - samples/sec: 116.76 - lr: 0.000031\n",
      "2022-09-16 17:23:51,422 epoch 3 - iter 450/1500 - loss 0.22366884 - samples/sec: 116.08 - lr: 0.000030\n",
      "2022-09-16 17:24:12,310 epoch 3 - iter 600/1500 - loss 0.22469814 - samples/sec: 114.95 - lr: 0.000029\n",
      "2022-09-16 17:24:33,150 epoch 3 - iter 750/1500 - loss 0.22493853 - samples/sec: 115.22 - lr: 0.000028\n",
      "2022-09-16 17:24:54,590 epoch 3 - iter 900/1500 - loss 0.22405679 - samples/sec: 111.99 - lr: 0.000027\n",
      "2022-09-16 17:25:15,445 epoch 3 - iter 1050/1500 - loss 0.22304996 - samples/sec: 115.13 - lr: 0.000026\n",
      "2022-09-16 17:25:36,472 epoch 3 - iter 1200/1500 - loss 0.22339060 - samples/sec: 114.19 - lr: 0.000024\n",
      "2022-09-16 17:25:57,455 epoch 3 - iter 1350/1500 - loss 0.22247563 - samples/sec: 114.43 - lr: 0.000023\n",
      "2022-09-16 17:26:18,486 epoch 3 - iter 1500/1500 - loss 0.22252826 - samples/sec: 114.17 - lr: 0.000022\n",
      "2022-09-16 17:26:18,488 ----------------------------------------------------------------------------------------------------\n",
      "2022-09-16 17:26:18,488 EPOCH 3 done: loss 0.2225 - lr 0.000022\n"
     ]
    },
    {
     "name": "stderr",
     "output_type": "stream",
     "text": [
      "100%|████████████████████████████████████████████████████████████████████████████████████████████████████████████████████████████████████████████████████████████████████████████████| 138/138 [00:07<00:00, 17.35it/s]"
     ]
    },
    {
     "name": "stdout",
     "output_type": "stream",
     "text": [
      "2022-09-16 17:26:26,452 Evaluating as a multi-label problem: False\n"
     ]
    },
    {
     "name": "stderr",
     "output_type": "stream",
     "text": [
      "\n"
     ]
    },
    {
     "name": "stdout",
     "output_type": "stream",
     "text": [
      "2022-09-16 17:26:26,473 DEV : loss 0.10170043259859085 - f1-score (micro avg)  0.8602\n",
      "2022-09-16 17:26:26,592 BAD EPOCHS (no improvement): 4\n",
      "2022-09-16 17:26:28,352 saving best model\n",
      "2022-09-16 17:26:31,022 ----------------------------------------------------------------------------------------------------\n",
      "2022-09-16 17:26:51,756 epoch 4 - iter 150/1500 - loss 0.20195900 - samples/sec: 115.83 - lr: 0.000021\n",
      "2022-09-16 17:27:12,603 epoch 4 - iter 300/1500 - loss 0.20570129 - samples/sec: 115.18 - lr: 0.000020\n",
      "2022-09-16 17:27:33,277 epoch 4 - iter 450/1500 - loss 0.20848097 - samples/sec: 116.14 - lr: 0.000019\n",
      "2022-09-16 17:27:54,038 epoch 4 - iter 600/1500 - loss 0.20831535 - samples/sec: 115.65 - lr: 0.000018\n",
      "2022-09-16 17:28:14,808 epoch 4 - iter 750/1500 - loss 0.20885699 - samples/sec: 115.61 - lr: 0.000017\n",
      "2022-09-16 17:28:35,646 epoch 4 - iter 900/1500 - loss 0.20851746 - samples/sec: 115.22 - lr: 0.000016\n",
      "2022-09-16 17:28:56,832 epoch 4 - iter 1050/1500 - loss 0.20693659 - samples/sec: 113.34 - lr: 0.000014\n",
      "2022-09-16 17:29:17,677 epoch 4 - iter 1200/1500 - loss 0.20762416 - samples/sec: 115.19 - lr: 0.000013\n",
      "2022-09-16 17:29:38,383 epoch 4 - iter 1350/1500 - loss 0.20825272 - samples/sec: 115.96 - lr: 0.000012\n",
      "2022-09-16 17:29:58,912 epoch 4 - iter 1500/1500 - loss 0.20803980 - samples/sec: 116.96 - lr: 0.000011\n",
      "2022-09-16 17:29:58,914 ----------------------------------------------------------------------------------------------------\n",
      "2022-09-16 17:29:58,915 EPOCH 4 done: loss 0.2080 - lr 0.000011\n"
     ]
    },
    {
     "name": "stderr",
     "output_type": "stream",
     "text": [
      "100%|████████████████████████████████████████████████████████████████████████████████████████████████████████████████████████████████████████████████████████████████████████████████| 138/138 [00:08<00:00, 15.95it/s]"
     ]
    },
    {
     "name": "stdout",
     "output_type": "stream",
     "text": [
      "2022-09-16 17:30:07,576 Evaluating as a multi-label problem: False\n"
     ]
    },
    {
     "name": "stderr",
     "output_type": "stream",
     "text": [
      "\n"
     ]
    },
    {
     "name": "stdout",
     "output_type": "stream",
     "text": [
      "2022-09-16 17:30:07,598 DEV : loss 0.11378999054431915 - f1-score (micro avg)  0.8624\n",
      "2022-09-16 17:30:07,719 BAD EPOCHS (no improvement): 4\n",
      "2022-09-16 17:30:10,394 saving best model\n",
      "2022-09-16 17:30:13,063 ----------------------------------------------------------------------------------------------------\n",
      "2022-09-16 17:30:33,865 epoch 5 - iter 150/1500 - loss 0.20311391 - samples/sec: 115.43 - lr: 0.000010\n",
      "2022-09-16 17:30:54,800 epoch 5 - iter 300/1500 - loss 0.19872436 - samples/sec: 114.70 - lr: 0.000009\n",
      "2022-09-16 17:31:15,513 epoch 5 - iter 450/1500 - loss 0.19608308 - samples/sec: 115.92 - lr: 0.000008\n",
      "2022-09-16 17:31:36,302 epoch 5 - iter 600/1500 - loss 0.19569000 - samples/sec: 115.50 - lr: 0.000007\n",
      "2022-09-16 17:31:57,115 epoch 5 - iter 750/1500 - loss 0.19730137 - samples/sec: 115.36 - lr: 0.000006\n",
      "2022-09-16 17:32:18,118 epoch 5 - iter 900/1500 - loss 0.19749618 - samples/sec: 114.32 - lr: 0.000004\n",
      "2022-09-16 17:32:39,494 epoch 5 - iter 1050/1500 - loss 0.19736896 - samples/sec: 112.32 - lr: 0.000003\n",
      "2022-09-16 17:33:00,206 epoch 5 - iter 1200/1500 - loss 0.19743152 - samples/sec: 115.93 - lr: 0.000002\n",
      "2022-09-16 17:33:21,207 epoch 5 - iter 1350/1500 - loss 0.19728753 - samples/sec: 114.33 - lr: 0.000001\n",
      "2022-09-16 17:33:42,000 epoch 5 - iter 1500/1500 - loss 0.19724367 - samples/sec: 115.48 - lr: 0.000000\n",
      "2022-09-16 17:33:42,002 ----------------------------------------------------------------------------------------------------\n",
      "2022-09-16 17:33:42,002 EPOCH 5 done: loss 0.1972 - lr 0.000000\n"
     ]
    },
    {
     "name": "stderr",
     "output_type": "stream",
     "text": [
      "100%|████████████████████████████████████████████████████████████████████████████████████████████████████████████████████████████████████████████████████████████████████████████████| 138/138 [00:07<00:00, 17.57it/s]"
     ]
    },
    {
     "name": "stdout",
     "output_type": "stream",
     "text": [
      "2022-09-16 17:33:49,866 Evaluating as a multi-label problem: False\n"
     ]
    },
    {
     "name": "stderr",
     "output_type": "stream",
     "text": [
      "\n"
     ]
    },
    {
     "name": "stdout",
     "output_type": "stream",
     "text": [
      "2022-09-16 17:33:49,888 DEV : loss 0.12510038912296295 - f1-score (micro avg)  0.8667\n",
      "2022-09-16 17:33:50,006 BAD EPOCHS (no improvement): 4\n",
      "2022-09-16 17:33:52,725 saving best model\n",
      "2022-09-16 17:33:56,461 ----------------------------------------------------------------------------------------------------\n",
      "2022-09-16 17:33:56,462 loading file resources/taggers/germaneval14_ner/16092022-AdamW-Final/best-model.pt\n",
      "2022-09-16 17:33:58,567 SequenceTagger predicts: Dictionary with 49 tags: O, S-LOC, B-LOC, E-LOC, I-LOC, S-PER, B-PER, E-PER, I-PER, S-ORG, B-ORG, E-ORG, I-ORG, S-OTH, B-OTH, E-OTH, I-OTH, S-LOCderiv, B-LOCderiv, E-LOCderiv, I-LOCderiv, S-ORGpart, B-ORGpart, E-ORGpart, I-ORGpart, S-LOCpart, B-LOCpart, E-LOCpart, I-LOCpart, S-OTHderiv, B-OTHderiv, E-OTHderiv, I-OTHderiv, S-OTHpart, B-OTHpart, E-OTHpart, I-OTHpart, S-PERpart, B-PERpart, E-PERpart, I-PERpart, S-PERderiv, B-PERderiv, E-PERderiv, I-PERderiv, S-ORGderiv, B-ORGderiv, E-ORGderiv, I-ORGderiv\n"
     ]
    },
    {
     "name": "stderr",
     "output_type": "stream",
     "text": [
      "100%|████████████████████████████████████████████████████████████████████████████████████████████████████████████████████████████████████████████████████████████████████████████████| 319/319 [00:17<00:00, 17.88it/s]"
     ]
    },
    {
     "name": "stdout",
     "output_type": "stream",
     "text": [
      "2022-09-16 17:34:16,531 Evaluating as a multi-label problem: False\n",
      "2022-09-16 17:34:16,570 0.8512\t0.8548\t0.853\t0.778\n",
      "2022-09-16 17:34:16,571 \n",
      "Results:\n",
      "- F-score (micro) 0.853\n",
      "- F-score (macro) 0.6603\n",
      "- Accuracy 0.778\n",
      "\n",
      "By class:\n",
      "              precision    recall  f1-score   support\n",
      "\n",
      "         LOC     0.8983    0.9109    0.9045      1706\n",
      "         PER     0.9328    0.9408    0.9368      1639\n",
      "         ORG     0.8031    0.8017    0.8024      1150\n",
      "         OTH     0.6883    0.6557    0.6716       697\n",
      "    LOCderiv     0.8699    0.9412    0.9041       561\n",
      "     ORGpart     0.7514    0.7558    0.7536       172\n",
      "     LOCpart     0.7212    0.6881    0.7042       109\n",
      "     OTHpart     0.5682    0.5952    0.5814        42\n",
      "     PERpart     0.6571    0.5227    0.5823        44\n",
      "    OTHderiv     0.5833    0.5385    0.5600        39\n",
      "    PERderiv     0.3333    0.2727    0.3000        11\n",
      "    ORGderiv     1.0000    0.1250    0.2222         8\n",
      "\n",
      "   micro avg     0.8512    0.8548    0.8530      6178\n",
      "   macro avg     0.7339    0.6457    0.6603      6178\n",
      "weighted avg     0.8494    0.8548    0.8514      6178\n",
      "\n",
      "2022-09-16 17:34:16,571 ----------------------------------------------------------------------------------------------------\n"
     ]
    },
    {
     "name": "stderr",
     "output_type": "stream",
     "text": [
      "\n"
     ]
    },
    {
     "data": {
      "text/plain": [
       "{'test_score': 0.8530124374091422,\n",
       " 'dev_score_history': [0.8321194464675892,\n",
       "  0.8567727609178386,\n",
       "  0.8601991884913317,\n",
       "  0.8623988226637234,\n",
       "  0.8667157584683357],\n",
       " 'train_loss_history': [0.5933373476021749,\n",
       "  0.2542871291452526,\n",
       "  0.22252825641207316,\n",
       "  0.20803980023468496,\n",
       "  0.1972436731842335],\n",
       " 'dev_loss_history': [0.09275367856025696,\n",
       "  0.08406437933444977,\n",
       "  0.10170043259859085,\n",
       "  0.11378999054431915,\n",
       "  0.12510038912296295]}"
      ]
     },
     "execution_count": 4,
     "metadata": {},
     "output_type": "execute_result"
    }
   ],
   "source": [
    "from flair.optim import LinearSchedulerWithWarmup\n",
    "\n",
    "\n",
    "trainer.train('resources/taggers/germaneval14_ner/16092022-AdamW-Final',\n",
    "                optimizer=torch.optim.AdamW, # State of the art optimizer for fast convergence\n",
    "                learning_rate=5.0e-5, # Learning rate for our optimizer -> hopefully it fits!\n",
    "                mini_batch_size=16, # Batch size, which should fit in our GPU. Smaller batch size -> more adaption steps, bit training takes longer!\n",
    "                max_epochs=5, # After X epochs we are done\n",
    "                scheduler=LinearSchedulerWithWarmup, # Use a warmup period and linear learning rate decrease\n",
    "                checkpoint=True,\n",
    "             )"
   ]
  },
  {
   "cell_type": "code",
   "execution_count": 6,
   "id": "86f2d432",
   "metadata": {
    "collapsed": true
   },
   "outputs": [
    {
     "name": "stdout",
     "output_type": "stream",
     "text": [
      "2022-09-16 17:37:24,356 ----------------------------------------------------------------------------------------------------\n",
      "2022-09-16 17:37:24,356 WARNING: No LOSS found for test split in this data.\n",
      "2022-09-16 17:37:24,357 Are you sure you want to plot LOSS and not another value?\n",
      "2022-09-16 17:37:24,357 ----------------------------------------------------------------------------------------------------\n",
      "2022-09-16 17:37:24,373 ----------------------------------------------------------------------------------------------------\n",
      "2022-09-16 17:37:24,373 WARNING: No F1 found for test split in this data.\n",
      "2022-09-16 17:37:24,374 Are you sure you want to plot F1 and not another value?\n",
      "2022-09-16 17:37:24,374 ----------------------------------------------------------------------------------------------------\n",
      "2022-09-16 17:37:25,180 Loss and F1 plots are saved in resources/taggers/germaneval14_ner/16092022-AdamW-Final/training.png\n"
     ]
    },
    {
     "data": {
      "image/png": "[encoded data removed]",
      "text/plain": [
       "<Figure size 1080x720 with 2 Axes>"
      ]
     },
     "metadata": {
      "needs_background": "light"
     },
     "output_type": "display_data"
    }
   ],
   "source": [
    "# Show curves\n",
    "from flair.visual.training_curves import Plotter\n",
    "\n",
    "plotter = Plotter()\n",
    "plotter.plot_training_curves('resources/taggers/germaneval14_ner/16092022-AdamW-Final/loss.tsv')"
   ]
  }
 ],
 "metadata": {
  "kernelspec": {
   "display_name": "Python 3 (ipykernel)",
   "language": "python",
   "name": "python3"
  },
  "language_info": {
   "codemirror_mode": {
    "name": "ipython",
    "version": 3
   },
   "file_extension": ".py",
   "mimetype": "text/x-python",
   "name": "python",
   "nbconvert_exporter": "python",
   "pygments_lexer": "ipython3",
   "version": "3.9.12"
  }
 },
 "nbformat": 4,
 "nbformat_minor": 5
}
